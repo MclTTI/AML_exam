{
 "cells": [
  {
   "cell_type": "markdown",
   "id": "manual-provision",
   "metadata": {},
   "source": [
    "# Evaluation of the model trained for anomaly detection step-by-step"
   ]
  },
  {
   "cell_type": "markdown",
   "id": "distant-narrative",
   "metadata": {},
   "source": [
    "## Import modules"
   ]
  },
  {
   "cell_type": "code",
   "execution_count": 1,
   "id": "infectious-creation",
   "metadata": {},
   "outputs": [],
   "source": [
    "import os, sys\n",
    "import argparse\n",
    "import pandas as pd\n",
    "import numpy as np\n",
    "import joblib\n",
    "import seaborn as sns\n",
    "import matplotlib.pyplot as plt\n",
    "import h5py as h5\n",
    "import tensorflow as tf\n",
    "from gwpy.timeseries import TimeSeries\n",
    "from tensorflow.keras.models import load_model\n",
    "from tensorflow.keras.losses import mean_absolute_error, MeanAbsoluteError, mean_squared_error, MeanSquaredError\n",
    "from random import sample as RandSample\n",
    "from sklearn.metrics import auc\n",
    "\n",
    "sns.set(color_codes=True)"
   ]
  },
  {
   "cell_type": "markdown",
   "id": "incorrect-wellington",
   "metadata": {},
   "source": [
    "## Define some I/O variables"
   ]
  },
  {
   "cell_type": "code",
   "execution_count": 2,
   "id": "academic-buffer",
   "metadata": {},
   "outputs": [],
   "source": [
    "outdir = './output'        # Required output directory\n",
    "detector = 'L1'            # LIGO Detector\n",
    "freq = '2'                 # Sampling frequency of detector in KHz. 2 or 4\n",
    "filtered = '1'             # Apply LIGO's bandpass and whitening filters. 1/0\n",
    "timesteps = 100            # Number of timesteps passed to the model\n",
    "    \n",
    "# Create output directory\n",
    "os.system(f'mkdir {outdir}')\n",
    "\n",
    "# Define frequency in Hz instead of KHz\n",
    "if int(freq) == 2:\n",
    "    freq = 2048\n",
    "elif int(freq) == 4:\n",
    "    freq = 4096\n",
    "else:\n",
    "    print(f'Given frequency {freq}kHz is not supported. Correct values are 2 or 4kHz.')"
   ]
  },
  {
   "cell_type": "markdown",
   "id": "distinct-series",
   "metadata": {},
   "source": [
    "## Load the dataset"
   ]
  },
  {
   "cell_type": "code",
   "execution_count": 3,
   "id": "critical-engineer",
   "metadata": {},
   "outputs": [
    {
     "name": "stdout",
     "output_type": "stream",
     "text": [
      "File keys:\n",
      "\n",
      "['command_line_arguments', 'injection_parameters', 'injection_samples', 'noise_samples', 'normalization_parameters', 'static_arguments']\n",
      "\n",
      "Noise_samples keys:\n",
      "\n",
      "['event_time', 'h1_strain', 'l1_strain']\n",
      "\n",
      "L1 strain shape:\n",
      "\n",
      "(6000, 16384)\n"
     ]
    }
   ],
   "source": [
    "# print(os.getcwd())\n",
    "\n",
    "load = h5.File('./../dataset/dataset1.hdf', 'r')   # Change this to dataset location!\n",
    "print('File keys:\\n')\n",
    "print([key for key in load.keys()])\n",
    "\n",
    "group = load['noise_samples']\n",
    "print('\\n'+'Noise_samples keys:\\n')\n",
    "print([key for key in group.keys()])\n",
    "\n",
    "dataset = group[f'{str(detector).lower()}_strain'][0:6000]  # I use only one half of the dataset\n",
    "print('\\n'+'L1 strain shape:\\n')\n",
    "print(dataset.shape)"
   ]
  },
  {
   "cell_type": "markdown",
   "id": "urban-leave",
   "metadata": {},
   "source": [
    "## Select noise samples and injection samples and apply filters and scaler"
   ]
  },
  {
   "cell_type": "markdown",
   "id": "attractive-pencil",
   "metadata": {},
   "source": [
    "Define the filtering function (the same used in training)"
   ]
  },
  {
   "cell_type": "code",
   "execution_count": 13,
   "id": "increasing-controversy",
   "metadata": {},
   "outputs": [],
   "source": [
    "def filters(array, sample_frequency):\n",
    "    strain = TimeSeries(array, sample_rate=int(sample_frequency))\n",
    "    white_data = strain.whiten(fftlength=4, fduration=4)\n",
    "    bp_data = white_data.bandpass(50, 250)\n",
    "    return bp_data.value"
   ]
  },
  {
   "cell_type": "markdown",
   "id": "continent-instrumentation",
   "metadata": {},
   "source": [
    "### Select noise samples"
   ]
  },
  {
   "cell_type": "code",
   "execution_count": 14,
   "id": "north-charm",
   "metadata": {},
   "outputs": [
    {
     "name": "stdout",
     "output_type": "stream",
     "text": [
      "Filtering data with whitening and bandpass\n",
      "Sample Frequency: 2048 Hz\n",
      "Filtering completed\n",
      "\n",
      "Training data shape: (2000, 16384)\n"
     ]
    }
   ],
   "source": [
    "n_noise_events = 2000    # Change according to dataset dim!\n",
    "noise_samples = load['noise_samples']['%s_strain'%(str(detector).lower())][:][-n_noise_events:]\n",
    "\n",
    "if bool(int(filtered)):\n",
    "    print('Filtering data with whitening and bandpass')\n",
    "    print(f'Sample Frequency: {freq} Hz')\n",
    "    x_noise = [filters(sample, freq) for sample in noise_samples]\n",
    "    print('Filtering completed\\n')\n",
    "\n",
    "# Load previous scaler and transform\n",
    "scaler_filename = f\"./output/autoencoder_LSTM/scaler_data_{detector}\"    # Change according to scaler location! \n",
    "scaler = joblib.load(scaler_filename)\n",
    "X_train = scaler.transform(x_noise)                   # Input is a list, output is a ndarray!\n",
    "\n",
    "print(\"Training data shape:\", X_train.shape)"
   ]
  },
  {
   "cell_type": "markdown",
   "id": "decent-african",
   "metadata": {},
   "source": [
    "### Select injection samples"
   ]
  },
  {
   "cell_type": "code",
   "execution_count": 15,
   "id": "level-hospital",
   "metadata": {},
   "outputs": [
    {
     "name": "stdout",
     "output_type": "stream",
     "text": [
      "Filtering data with whitening and bandpass\n",
      "Done!\n",
      "\n",
      "Testing data shape: (2000, 16384)\n"
     ]
    }
   ],
   "source": [
    "n_injection_events = 2000\n",
    "injection_samples = load['injection_samples']['%s_strain'%(str(detector).lower())][:][:n_injection_events]\n",
    "\n",
    "if bool(int(filtered)):\n",
    "    print('Filtering data with whitening and bandpass')\n",
    "    x_injection = [filters(sample, freq) for sample in injection_samples]\n",
    "    print('Done!\\n')\n",
    "    \n",
    "# Load previuos scaler and normalize the data\n",
    "scaler_filename = f\"./output/autoencoder_LSTM/scaler_data_{detector}\"    # Change according to scaler location! \n",
    "scaler = joblib.load(scaler_filename)\n",
    "X_test = scaler.transform(x_injection)\n",
    "\n",
    "print(\"Testing data shape:\", X_test.shape)"
   ]
  },
  {
   "cell_type": "markdown",
   "id": "copyrighted-crystal",
   "metadata": {},
   "source": [
    "## Define a function to\n",
    "\n",
    "- Find a threshold for GWs detection\n",
    "- For each injection event determine whether it is a GW"
   ]
  },
  {
   "cell_type": "code",
   "execution_count": 16,
   "id": "worst-valuation",
   "metadata": {},
   "outputs": [],
   "source": [
    "def TPR_FPR_arrays(noise_array, injection_array, model_outdir, steps, num_entries=400): \n",
    "    \n",
    "    # Load the model\n",
    "    model = load_model(f'{model_outdir}/best_model.hdf5')\n",
    "    \n",
    "    # Trim and reshape the data\n",
    "    x = []\n",
    "    for event in range(len(noise_array)): \n",
    "        if noise_array[event].shape[0]%steps != 0: \n",
    "            x.append(noise_array[event][:-1*int(noise_array[event].shape[0]%steps)])   # Cut-off the tail (the remainder of length/timestep)\n",
    "    noise_array = np.array(x).reshape(-1, steps, 1)   # num righe = num_event x lughezza eventi senza coda / steps\n",
    "    print(f'Noise array shape after trimming: {noise_array.shape}')\n",
    "    \n",
    "    x = []\n",
    "    for event in range(len(injection_array)): \n",
    "        if injection_array[event].shape[0]%steps != 0: \n",
    "            x.append(injection_array[event][:-1*int(injection_array[event].shape[0]%steps)])\n",
    "    injection_array = np.array(x).reshape(-1, steps, 1)\n",
    "    print(f'Injection array shape after trimming: {injection_array.shape}')\n",
    "    \n",
    "    # Evaluating the model on training data to find threshold \n",
    "    print('Evaluating Model on train data. This make take a while...')\n",
    "    X_pred_noise = model.predict(noise_array)\n",
    "    print('Finished evaluating model on train data')\n",
    "\n",
    "    n_noise_events = 2000    # This was 40000 (?). I think it should be the # of samples I have\n",
    "    \n",
    "    # Determine thresholds for FPR quantiles\n",
    "    loss_fn = MeanSquaredError(reduction='none')\n",
    "    losses = loss_fn(noise_array, X_pred_noise).numpy()   #.eval(session=tf.compat.v1.Session())\n",
    "    averaged_losses = np.mean(losses, axis=1).reshape(n_noise_events, -1)  # Average loss for each element of noise_array\n",
    "    max_losses = [np.max(event) for event in averaged_losses]\n",
    "\n",
    "    roc_steps = num_entries\n",
    "    FPRs = np.logspace(-4, 0, roc_steps)   # 10^-4 -> 10^0\n",
    "    thresholds = [np.quantile(max_losses, 1.0-fpr) for fpr in FPRs]  # (1-fpr)th quantile of max_losses \n",
    "    \n",
    "    print('Evaluating Model on test data. This make take a while...')\n",
    "    X_pred_injection = model.predict(injection_array)\n",
    "    print('Finished evaluating model on test data')\n",
    "       \n",
    "    n_injection_events = 2000  # Same as n_noise_events\n",
    "    \n",
    "    losses = loss_fn(injection_array, X_pred_injection).numpy()   #.eval(session=tf.compat.v1.Session())\n",
    "    averaged_losses = np.mean(losses, axis=1).reshape(n_injection_events, -1)\n",
    "    \n",
    "    # For each event determine whether GW was detected at a given FPR threshold\n",
    "    gw_pred = [[] for i in range(roc_steps)]   #len = #roc_steps, # len of each internal list = # events \n",
    "    for i in range(len(averaged_losses)):\n",
    "        batch_loss = averaged_losses[i]   #rows = #events, #columns = depends on injection array shape\n",
    "        for fpr in range(len(FPRs)):\n",
    "            if np.max(batch_loss) > thresholds[fpr]:  #if the max loss for an event exceeds the threshold  \n",
    "                gw_pred[fpr].append(1)\n",
    "            else: \n",
    "                gw_pred[fpr].append(0)\n",
    "\n",
    "    # Calculate corresponding TPR\n",
    "    TPRs = [float(np.sum(gw_pred[fpr]))/n_injection_events for fpr in range(len(FPRs))]\n",
    "    return(TPRs, FPRs)"
   ]
  },
  {
   "cell_type": "markdown",
   "id": "compatible-installation",
   "metadata": {},
   "source": [
    "## Use the function to test some model"
   ]
  },
  {
   "cell_type": "code",
   "execution_count": 17,
   "id": "powered-presence",
   "metadata": {},
   "outputs": [
    {
     "name": "stdout",
     "output_type": "stream",
     "text": [
      "/home/marcello/PhD_DS/code_tests\r\n"
     ]
    }
   ],
   "source": [
    "!pwd\n",
    "\n",
    "directory_list = [f'{outdir}/autoencoder_LSTM']\n",
    "names = ['autoencoder LSTM']\n",
    "list_timesteps = [timesteps]    # timestep = [timesteps] diventa una lista annidata\n",
    "\n",
    "FPR_set = []\n",
    "TPR_set = []"
   ]
  },
  {
   "cell_type": "code",
   "execution_count": 18,
   "id": "absolute-rebate",
   "metadata": {},
   "outputs": [
    {
     "name": "stdout",
     "output_type": "stream",
     "text": [
      "['./output/autoencoder_LSTM']\n",
      "['autoencoder LSTM']\n",
      "[100]\n"
     ]
    }
   ],
   "source": [
    "print(directory_list)\n",
    "print(names)\n",
    "print(list_timesteps)"
   ]
  },
  {
   "cell_type": "code",
   "execution_count": 19,
   "id": "outstanding-invalid",
   "metadata": {},
   "outputs": [
    {
     "name": "stdout",
     "output_type": "stream",
     "text": [
      "Determining performance for: autoencoder LSTM\n",
      "Noise array shape after trimming: (326000, 100, 1)\n",
      "Injection array shape after trimming: (326000, 100, 1)\n",
      "Evaluating Model on train data. This make take a while...\n",
      "Finished evaluating model on train data\n",
      "Evaluating Model on test data. This make take a while...\n",
      "Finished evaluating model on test data\n",
      "Done!\n"
     ]
    }
   ],
   "source": [
    "for name, directory, timestep in zip(names, directory_list, list_timesteps):\n",
    "    print('Determining performance for: %s'%(name))\n",
    "    TPR, FPR = TPR_FPR_arrays(X_train, X_test, directory, timestep)\n",
    "    TPR_set.append(TPR)\n",
    "    FPR_set.append(FPR)\n",
    "    print('Done!')"
   ]
  },
  {
   "cell_type": "code",
   "execution_count": 21,
   "id": "existing-newark",
   "metadata": {},
   "outputs": [],
   "source": [
    "# print(TPR_set)"
   ]
  },
  {
   "cell_type": "markdown",
   "id": "secret-transcript",
   "metadata": {},
   "source": [
    "## Plot ROC curve and compute AUC"
   ]
  },
  {
   "cell_type": "code",
   "execution_count": 25,
   "id": "egyptian-charity",
   "metadata": {},
   "outputs": [
    {
     "data": {
      "image/png": "[encoded data removed]",
      "text/plain": [
       "<Figure size 432x288 with 1 Axes>"
      ]
     },
     "metadata": {},
     "output_type": "display_data"
    }
   ],
   "source": [
    "plt.figure()\n",
    "lw = 2\n",
    "for FPRs, TPRs, name in zip(FPR_set, TPR_set, names):\n",
    "    plt.plot(FPRs, TPRs, lw=lw, label='%s (auc = %0.5f)'%(name, auc(FPRs, TPRs)))\n",
    "    plt.plot([0, 1], [0, 1], lw=lw, linestyle='--')\n",
    "    plt.xlim([1e-4, 1])\n",
    "    plt.ylim([0.0, 1.05])\n",
    "    plt.xlabel('False Positive Rate')\n",
    "    plt.ylabel('True Positive Rate')\n",
    "    #plt.xscale('log')\n",
    "    plt.title('LIGO Unsupervised Autoencoder Anomaly Detection')\n",
    "    plt.legend(loc=\"lower right\")\n",
    "    plt.savefig('%s/ROC_curve_log.png'%(outdir))"
   ]
  },
  {
   "cell_type": "code",
   "execution_count": null,
   "id": "australian-eclipse",
   "metadata": {},
   "outputs": [],
   "source": []
  }
 ],
 "metadata": {
  "kernelspec": {
   "display_name": "Python 3",
   "language": "python",
   "name": "python3"
  },
  "language_info": {
   "codemirror_mode": {
    "name": "ipython",
    "version": 3
   },
   "file_extension": ".py",
   "mimetype": "text/x-python",
   "name": "python",
   "nbconvert_exporter": "python",
   "pygments_lexer": "ipython3",
   "version": "3.8.5"
  }
 },
 "nbformat": 4,
 "nbformat_minor": 5
}
